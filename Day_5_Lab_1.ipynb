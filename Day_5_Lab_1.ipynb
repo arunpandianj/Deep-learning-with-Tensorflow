{
  "nbformat": 4,
  "nbformat_minor": 0,
  "metadata": {
    "colab": {
      "name": "Day_5_Lab_1",
      "provenance": [],
      "collapsed_sections": []
    },
    "kernelspec": {
      "name": "python3",
      "display_name": "Python 3"
    }
  },
  "cells": [
    {
      "cell_type": "code",
      "metadata": {
        "id": "S0WcTSJHoxUv"
      },
      "source": [
        "!pip install tensorflow==1.15.0"
      ],
      "execution_count": null,
      "outputs": []
    },
    {
      "cell_type": "code",
      "metadata": {
        "id": "a0TYGSCRo63K"
      },
      "source": [
        "from __future__ import print_function\n",
        "\n",
        "import numpy as np\n",
        "import tensorflow as tf\n",
        "from tensorflow.contrib.factorization import KMeans"
      ],
      "execution_count": null,
      "outputs": []
    },
    {
      "cell_type": "code",
      "metadata": {
        "id": "KOAwpeGUo96k"
      },
      "source": [
        "# Ignore all GPUs, tf k-means does not benefit from it.\n",
        "import os\n",
        "os.environ[\"CUDA_VISIBLE_DEVICES\"] = \"\""
      ],
      "execution_count": null,
      "outputs": []
    },
    {
      "cell_type": "code",
      "metadata": {
        "id": "FF9t7XCRo_9w"
      },
      "source": [
        "# Import MNIST data\n",
        "from tensorflow.examples.tutorials.mnist import input_data\n",
        "mnist = input_data.read_data_sets(\"/tmp/data/\", one_hot=True)\n",
        "full_data_x = mnist.train.images"
      ],
      "execution_count": null,
      "outputs": []
    },
    {
      "cell_type": "code",
      "metadata": {
        "id": "FW0yu-FypCNX"
      },
      "source": [
        "# Parameters\n",
        "num_steps = 50 # Total steps to train\n",
        "batch_size = 1024 # The number of samples per batch\n",
        "k = 25 # The number of clusters\n",
        "num_classes = 10 # The 10 digits\n",
        "num_features = 784 # Each image is 28x28 pixels"
      ],
      "execution_count": null,
      "outputs": []
    },
    {
      "cell_type": "code",
      "metadata": {
        "id": "3NrKSaQ7pEVo"
      },
      "source": [
        "# Input images\n",
        "X = tf.placeholder(tf.float32, shape=[None, num_features])\n",
        "# Labels (for assigning a label to a centroid and testing)\n",
        "Y = tf.placeholder(tf.float32, shape=[None, num_classes])"
      ],
      "execution_count": null,
      "outputs": []
    },
    {
      "cell_type": "code",
      "metadata": {
        "id": "WCv0tsWspG-D"
      },
      "source": [
        "# K-Means Parameters\n",
        "kmeans = KMeans(inputs=X, num_clusters=k, distance_metric='cosine',\n",
        "                use_mini_batch=True)"
      ],
      "execution_count": null,
      "outputs": []
    },
    {
      "cell_type": "code",
      "metadata": {
        "id": "ros1ksDvpJsj"
      },
      "source": [
        "# Build KMeans graph\n",
        "training_graph = kmeans.training_graph()"
      ],
      "execution_count": null,
      "outputs": []
    },
    {
      "cell_type": "code",
      "metadata": {
        "id": "aUzw9Dg6pL6d"
      },
      "source": [
        "if len(training_graph) > 6: # Tensorflow 1.4+\n",
        "    (all_scores, cluster_idx, scores, cluster_centers_initialized,\n",
        "     cluster_centers_var, init_op, train_op) = training_graph\n",
        "else:\n",
        "    (all_scores, cluster_idx, scores, cluster_centers_initialized,\n",
        "     init_op, train_op) = training_graph"
      ],
      "execution_count": null,
      "outputs": []
    },
    {
      "cell_type": "code",
      "metadata": {
        "id": "wnBT9jFApSgn"
      },
      "source": [
        "cluster_idx = cluster_idx[0] # fix for cluster_idx being a tuple\n",
        "avg_distance = tf.reduce_mean(scores)\n",
        "\n",
        "# Initialize the variables (i.e. assign their default value)\n",
        "init_vars = tf.global_variables_initializer()"
      ],
      "execution_count": null,
      "outputs": []
    },
    {
      "cell_type": "code",
      "metadata": {
        "id": "YhO8LyCypUvj"
      },
      "source": [
        "# Start TensorFlow session\n",
        "sess = tf.Session()"
      ],
      "execution_count": null,
      "outputs": []
    },
    {
      "cell_type": "code",
      "metadata": {
        "id": "vPteR_WPpWrO"
      },
      "source": [
        "# Run the initializer\n",
        "sess.run(init_vars, feed_dict={X: full_data_x})\n",
        "sess.run(init_op, feed_dict={X: full_data_x})"
      ],
      "execution_count": null,
      "outputs": []
    },
    {
      "cell_type": "code",
      "metadata": {
        "id": "Sr7hTJWApXQ9"
      },
      "source": [
        "# Training\n",
        "for i in range(1, num_steps + 1):\n",
        "    _, d, idx = sess.run([train_op, avg_distance, cluster_idx],\n",
        "                         feed_dict={X: full_data_x})\n",
        "    if i % 10 == 0 or i == 1:\n",
        "        print(\"Step %i, Avg Distance: %f\" % (i, d))"
      ],
      "execution_count": null,
      "outputs": []
    },
    {
      "cell_type": "code",
      "metadata": {
        "id": "lAXd-9zlpZN8"
      },
      "source": [
        "# Assign a label to each centroid\n",
        "# Count total number of labels per centroid, using the label of each training\n",
        "# sample to their closest centroid (given by 'idx')\n",
        "counts = np.zeros(shape=(k, num_classes))\n",
        "for i in range(len(idx)):\n",
        "    counts[idx[i]] += mnist.train.labels[i]\n",
        "# Assign the most frequent label to the centroid\n",
        "labels_map = [np.argmax(c) for c in counts]\n",
        "labels_map = tf.convert_to_tensor(labels_map)"
      ],
      "execution_count": null,
      "outputs": []
    },
    {
      "cell_type": "code",
      "metadata": {
        "id": "I10i71DMpbSx"
      },
      "source": [
        "# Evaluation ops\n",
        "# Lookup: centroid_id -> label\n",
        "cluster_label = tf.nn.embedding_lookup(labels_map, cluster_idx)\n",
        "# Compute accuracy\n",
        "correct_prediction = tf.equal(cluster_label, tf.cast(tf.argmax(Y, 1), tf.int32))\n",
        "accuracy_op = tf.reduce_mean(tf.cast(correct_prediction, tf.float32))"
      ],
      "execution_count": null,
      "outputs": []
    },
    {
      "cell_type": "code",
      "metadata": {
        "id": "FOc4Zb0fpeJW"
      },
      "source": [
        "# Test Model\n",
        "test_x, test_y = mnist.test.images, mnist.test.labels\n",
        "print(\"Test Accuracy:\", sess.run(accuracy_op, feed_dict={X: test_x, Y: test_y}))"
      ],
      "execution_count": null,
      "outputs": []
    }
  ]
}