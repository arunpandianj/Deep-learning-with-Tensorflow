{
  "nbformat": 4,
  "nbformat_minor": 0,
  "metadata": {
    "colab": {
      "name": "Day_4_Lab_2.ipynb",
      "provenance": []
    },
    "kernelspec": {
      "name": "python3",
      "display_name": "Python 3"
    }
  },
  "cells": [
    {
      "cell_type": "code",
      "metadata": {
        "id": "BaiJFE7kP2-5",
        "outputId": "0b2acc86-078b-4188-bbec-6d0f9e322553",
        "colab": {
          "base_uri": "https://localhost:8080/",
          "height": 616
        }
      },
      "source": [
        "import numpy as np\n",
        "import matplotlib.pyplot as plt\n",
        "\n",
        "from sklearn.model_selection import train_test_split\n",
        "from sklearn.preprocessing import normalize\n",
        "from sklearn import datasets\n",
        "from keras.layers import Input, Dense\n",
        "from keras.models import Model\n",
        "\n",
        "data = datasets.load_digits()\n",
        "\n",
        "X_data = data.images\n",
        "y_data = data.target\n",
        "\n",
        "X_data = X_data.reshape(X_data.shape[0], 64)\n",
        "\n",
        "# fit in data instances into interval [0,1]\n",
        "X_data = X_data / 16.\n",
        "X_train, X_test, y_train, y_test = train_test_split(X_data, y_data, test_size = 0.3, random_state = 777)\n",
        "\n",
        "def encoder_decoder(code_dim = 10):\n",
        "    inputs = Input(shape = (X_train.shape[1],))\n",
        "    code = Dense(50, activation= 'relu')(inputs)\n",
        "    code = Dense(50, activation = 'relu')(code)\n",
        "    code = Dense(code_dim, activation = 'relu')(code)\n",
        "    \n",
        "    outputs = Dense(50, activation = 'relu')(code)\n",
        "    outputs = Dense(50, activation = 'relu')(outputs)\n",
        "    outputs = Dense(X_train.shape[1], activation = 'sigmoid')(outputs)\n",
        "    \n",
        "    auto_encoder = Model(inputs = inputs, outputs = outputs)\n",
        "    auto_encoder.compile(optimizer = 'adam', loss = 'binary_crossentropy')\n",
        "    \n",
        "    return auto_encoder\n",
        "\n",
        "auto_encoder = encoder_decoder()\n",
        "auto_encoder.fit(X_train, X_train, epochs = 10, batch_size = 50, validation_data = (X_test, X_test))\n",
        "\n",
        "decoded = auto_encoder.predict(X_test)\n",
        "\n",
        "plt.figure(figsize = (10,4))\n",
        "\n",
        "n = 5\n",
        "for i in range(n):\n",
        "    # visualizing test data instances\n",
        "    ax = plt.subplot(2, n, i+1)\n",
        "    plt.imshow(X_test[i].reshape(8,8))\n",
        "    plt.gray()\n",
        "    \n",
        "    ax.get_xaxis().set_visible(False)\n",
        "    ax.get_yaxis().set_visible(False)\n",
        "    \n",
        "    # visualizing encode-decoded test data instances\n",
        "    ax = plt.subplot(2, n, i+n+1)\n",
        "    plt.imshow(decoded[i].reshape(8,8))\n",
        "    plt.gray()\n",
        "    \n",
        "    ax.get_xaxis().set_visible(False)\n",
        "    ax.get_yaxis().set_visible(False)\n",
        "plt.show()"
      ],
      "execution_count": 2,
      "outputs": [
        {
          "output_type": "stream",
          "text": [
            "Epoch 1/10\n",
            "26/26 [==============================] - 0s 7ms/step - loss: 0.6497 - val_loss: 0.5713\n",
            "Epoch 2/10\n",
            "26/26 [==============================] - 0s 3ms/step - loss: 0.4978 - val_loss: 0.4463\n",
            "Epoch 3/10\n",
            "26/26 [==============================] - 0s 3ms/step - loss: 0.4263 - val_loss: 0.4205\n",
            "Epoch 4/10\n",
            "26/26 [==============================] - 0s 3ms/step - loss: 0.4100 - val_loss: 0.4092\n",
            "Epoch 5/10\n",
            "26/26 [==============================] - 0s 3ms/step - loss: 0.3987 - val_loss: 0.3995\n",
            "Epoch 6/10\n",
            "26/26 [==============================] - 0s 3ms/step - loss: 0.3892 - val_loss: 0.3905\n",
            "Epoch 7/10\n",
            "26/26 [==============================] - 0s 3ms/step - loss: 0.3797 - val_loss: 0.3798\n",
            "Epoch 8/10\n",
            "26/26 [==============================] - 0s 3ms/step - loss: 0.3679 - val_loss: 0.3672\n",
            "Epoch 9/10\n",
            "26/26 [==============================] - 0s 3ms/step - loss: 0.3543 - val_loss: 0.3531\n",
            "Epoch 10/10\n",
            "26/26 [==============================] - 0s 3ms/step - loss: 0.3417 - val_loss: 0.3428\n"
          ],
          "name": "stdout"
        },
        {
          "output_type": "display_data",
          "data": {
            "image/png": "[encoded data removed]",
            "text/plain": [
              "<Figure size 720x288 with 10 Axes>"
            ]
          },
          "metadata": {
            "tags": [],
            "needs_background": "light"
          }
        }
      ]
    }
  ]
}